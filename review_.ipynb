{
 "cells": [
  {
   "cell_type": "markdown",
   "metadata": {},
   "source": [
    "# 29cm 남성 상의 리뷰 크롤링"
   ]
  },
  {
   "cell_type": "code",
   "execution_count": 34,
   "metadata": {},
   "outputs": [],
   "source": [
    "# 환경설정\n",
    "\n",
    "from selenium import webdriver\n",
    "from selenium.webdriver.common.by import By\n",
    "from bs4 import BeautifulSoup\n",
    "import time\n",
    "import pandas as pd\n",
    "import re\n",
    "# 드라이버 설정 , 열기\n",
    "driver = webdriver.Chrome()\n",
    "url = 'https://product.29cm.co.kr/catalog/993892?category_large_code=272100100'\n",
    "driver.get(url)\n",
    "# 리뷰버튼 클릭\n",
    "review_click = driver.find_element(By.CSS_SELECTOR, \"#__next > div.css-uio8sw.e1d4aooe1 > div.css-1y47rmj.e18uevlq0 > div.css-3eeht.e18uevlq1 > div.css-uz7uc7.e31km200 > div > div.css-1ilqvfb.e1k6f1kl0 > button\")\n",
    "review_click.click()"
   ]
  },
  {
   "cell_type": "code",
   "execution_count": 35,
   "metadata": {},
   "outputs": [
    {
     "name": "stdout",
     "output_type": "stream",
     "text": [
      "Review 1: 원단이부드러운편이에요몇번빨았는데목늘어남이있거나하지않고탄탄한편입니다레귤러핏정도됩니다\n",
      "Review 2: 예전에구매했을때보다뭔가소재가더좋아진듯해요기분탓인가좌우지간정말좋네요\n",
      "Review 3: 핏도좋고소재느낌도좋습니다정핏입니다\n",
      "Review 4: 정핏이고너무예쁜티셔츠임니다\n",
      "Review 5: 입은지꽤됐는데목늘어짐없이짱짱하네요\n",
      "Review 6: 이스트로그계열은이옷이처음인데투박하면서보들보들한원단텍스쳐가좋네요\n",
      "Review 7: 매년사는데이분연도에는그린네이비회색구입했습니다네이비는먼지가많이묻고목이좁은데그린과그레이는참좋네요\n",
      "Review 8: 이컬러까지벌써벌째네요포켓티중에가장좋은것같아요질감핏컬러다굿입니다사이즈는정사이즈요\n",
      "Review 9: 사이즈좋습니다원단이얇아졌다고들었는데여름티셔츠생각하면그래도탄탄한편이에요추천합니다\n",
      "Review 10: 친구생일선물로줬는데깔끔하고여기저기무난하게입기좋다고하네요선물하기기능이있어서편했어요\n",
      "Review 11: 많이기대했는데기대만큼은아니에요목부분은번세탁했는데쭈글쭈글하고나쁘지는않은데아니좋은데음\n",
      "Review 12: 감사합니다잘사용하겠습니다택배도바로바로오고상품도마음에듭니다감사합니다또올게요\n",
      "Review 13: 감사합니다잘사용하겠습니다택배도바로바로오고상품도마음에듭니다감사합니다또올게요\n",
      "Review 14: 원단감도그렇고딱입기좋네요깔별로소장마렵습니다\n",
      "Review 15: 색원단질둘다잡았습니다\n",
      "Review 16: 옷질감도너무좋고핏도좋고가격도좋네요애매한거말구걍이거사세욤가장무난합니다\n",
      "Review 17: 장째구매해요아주맘에들어요\n",
      "Review 18: 착용감도좋고핏도좋아요아주만족합니다장째구매해서입고있습니다\n",
      "Review 19: 목부분이너무잘늘어납니다비추\n",
      "Review 20: 확실히잘맞네요전컬러리오더안하는지궁금합니다\n",
      "Review 1: 역시짱짱하고사이즈도적당해요기본티셔츠로잘입고다닙니다이스트로그는항상믿고구매해요\n",
      "Review 2: 색감도너무좋고사이즈도너무좋고포켓디테일도너무좋아서지인들한테도추천할것같아요\n",
      "Review 3: 색감으로포인트주기너무좋아서친구들한테도추천했는데너무마음이든다고칭찬받았어요\n",
      "Review 4: 착용감도괜찮구소재도좋은거같아요\n",
      "Review 5: 확실히퀄리티가좋은듯해요일반무지티에비해목늘어남도덜할것같고앞으로입어보면서판단해야할듯합니다\n",
      "Review 6: 면도부드럽고만듬새도좋은데세탁후에약간수축한느낌이네요\n",
      "Review 7: 사이즈입는데라즈사이즈잘맞고요찰랑하는실켓느낌의면이아니라서아쉽네요흰색은살짝속옷느낌이\n",
      "Review 8: 소재탄탄하고색도디자인도너무이뻐요오버핏으로입는거좋아하는데넉넉하고딱좋으네요색이정말이쁘게잘나와서다른색들도사고싶어요가격보다도더나가보여요\n",
      "Review 9: 년전에한번사보고자주입는데도변형이없길래재구매했습니다전엔넥라인이좁아살짝아쉬웠는데넥라인이넓어져더만족스럽네요\n",
      "Review 10: 원단두께가있어서아메리카캐주알맛이나요세일할때장사서올여름전투용으로입을예정입니대\n",
      "Review 11: 아무때나여기저기다잘묻는기본티입니다여러모로정말자주입게되네요괜히베스트셀러가아닌거같습니다좋아요\n",
      "Review 12: 사이즈여유롭고좋습니다목이두꺼운데년부터목이넓어졌다니저한테는딱이네요\n",
      "Review 13: 품에비해기장이많이길어요\n",
      "Review 14: 너무무겁지않고탄탄한원단과베이직한디자인과실루엣깊은컬러감이만족스럽습니다\n",
      "Review 15: 실측보고샀는데조금작네요여자친구가입으니아주잘어울립니다만족스럽네요재질도부들부들하니좋아요\n",
      "Review 16: 생각보다정핏이구요넥라인호불호많을것같습니디미니멀하지않고두툼해여\n",
      "Review 17: 좋아요좋아요좋아요좋아요좋아요좋아요좋아요좋아요좋아요좋아요좋아요좋아요좋아요좋아요좋아요좋아요좋아요좋아요좋아요좋아요좋아요좋아요좋아요좋아요\n",
      "Review 18: 좋아요좋아요좋아요좋아요좋아요좋아요좋아요좋아요좋아요좋아요좋아요좋아요좋아요좋아요좋아요좋아요좋아요좋아요좋아요좋아요좋아요좋아요좋아요좋아요\n",
      "Review 19: 좋아요좋아요좋아요좋아요좋아요좋아요좋아요좋아요좋아요좋아요좋아요좋아요좋아요좋아요좋아요좋아요좋아요좋아요좋아요좋아요좋아요좋아요좋아요좋아요\n",
      "Review 20: 작년에굉장히맘에들어또구매했는데소재가바뀌고넥라인이바뀌니좀아쉽네요\n",
      "Review 1: 색감도이쁘고어디서나잘어울릴듯한무난한옷입니다세탁해도변형없이탄탄합니다\n",
      "Review 2: 무지티중에단연손꼽을정도에요\n",
      "Review 3: 이스트로그는처음구매해보는데정말짱짱하내요몇년간은입을수있을거같아여깔별로몇장씩구매하시는거추천드려여\n",
      "Review 4: 네이비나그레이색상의색감이이쁘네요작년버전보다목부분의타이트함이약해지고원단도얇아진듯한느낌이납니다오프화이트는작년께더이뻤던거같네요색감있는거는이쁩니다\n",
      "Review 5: 핏이진짜제가원하던기장이네요넣입도할수있는기장빼입도할수있는기장이에요다른색깔도하나더들여야겠네요\n",
      "Review 6: 전체적인폼기장소매길이모두맘에드네요딱원하던핏이나옵니다세탁한번돌렸는데도수축없고목도짱짱합니다\n",
      "Review 7: 면도탄탄하고도톰하네요세탁후에도변형도없고올한해잘입을것같네요\n",
      "Review 8: 빠른배송감사합니다사이즈넉넉하게잘맞아요색상도화면과비슷합니다잘입을게요\n",
      "Review 9: 우선할인됨가격으로구매릉해서만족스러웠어요하지만정가기준그에준하는퀄리티인지는솔직히잘모르겠어요더좋은선택지가많다고생각합니다꼭할인할때챙겨두시고넥라인이나포켓디테일이좋아서그런부분은확실히매력적이에요\n",
      "Review 10: 재질도고급스럽고핏도좋습니다\n",
      "Review 11: 티셔츠재질도좋고품도맘에듭니다\n",
      "Review 12: 핏도예쁘고탄탄하고소재도좋아요다른컬러도살예정입니다\n",
      "Review 13: 촉감너무부드럽고사용감이좋아요재구매의사있고이번에할인할때더사려고해요\n",
      "Review 14: 작년에네이비블랙잘입어서올해다른색구매했는대약간얇아진느낌이에요\n",
      "Review 15: 기본그레이티인데핏도너무예쁘고쨍하게회색이라그냥베이지팬츠에붙이면뚝딱이네요조아요\n",
      "Review 16: 가격값확실히하는거같습니다컬러감도다양해서좋아요\n",
      "Review 17: 옷감이좋네요남편이입어보고만족합니다사이즈도적당합니다\n",
      "Review 18: 재질가격다만족하는데건조기돌리니많이수축하네요한사이즈업할걸그랬어요그리고목라인도조금우글거리네요세탁후\n",
      "Review 19: 면이두꺼워서속이전혀비치지않고좋아요부드러워서착용감도좋고목이늘어나지않을것같아서안심이됩니다\n",
      "Review 20: 목라인이짱짱해서늘어나지않을거같습니다\n",
      "Review 1: 작년에맘에들어개샀어요단점은목이너무타이트했는데올해는개선이됐네요그대신옷감은좀얇아진듯하네요그래도헤비웨이트느낌나서좋아요\n",
      "Review 2: 소재는부드럽고넥라인도탄탄해서오래입을것같네요색상은사진보다밝은것같아서반품할까했는데귀찮아서그냥입기로함\n",
      "Review 3: 오트밀구매후맘에들어서검정색도구매햇어여사이즈딱좋네요\n",
      "Review 4: 디지인이깔끔한편이고그렇게얇은소재가아니여서오래입을수있을거같습니다다른색상도구매할예정입니다\n",
      "Review 5: 화이트블랙구매해서아들에게입으랬더니넘나맘에든다네요다른색상도추가주문하려합니다\n",
      "Review 6: 생각했던것보다부드러운소재네요몸판은부드럽고넥라인은탄탄합니다\n",
      "Review 7: 착용감굿굿약간오버사이즈로나온듯합니다정핏으로입는게이쁠듯합니다\n",
      "Review 8: 아주두껍지는않지만적당히짱짱해서체형도커버되고예쁩니다그런데남편이체격이커서을입는데다른에비해서는어깨가조금작게나온것같습니다\n",
      "Review 9: 사이즈딱맞고상품좋습니다\n",
      "Review 10: 항상여름기본반팔티셔츠를유니네에서사서입었는데올해는구매전이스트로그퍼머넌트를우연히접하게돼서한번구매해봤습니다촉감너무좋고사이즈도딱적정하게나오고옆에절개까지너무편하네요세일가에잘구매한것같습니다기본티로강추\n",
      "Review 11: 배송빨랐고기본핏이라여기저기코디해서입기좋아요소재도보들해서민감한피부에도좋음\n",
      "Review 12: 착용감이많이두껍지않아서편하게입을수있을거같고넥라인이너무마음에드네요색상은사진과동일해요\n",
      "Review 13: 이스트로그무지티는처음인데면이두껍지않으면서시원하고핏감도잘잡아주네요다른색상추가구매갑니다\n",
      "Review 14: 좋긴한데비싼거같기도하고그렇습니다이레저래입기에좋고무난하네요세일잔뜩받으면살만합니다\n",
      "Review 15: 매년구매해서잘입습니다세착건조자주해도안늘어나고수축률도적어서돈값하는티셔츠입니다\n",
      "Review 16: 두께감좋구요촉감도좋아요할인할때잘구매한거같아요\n",
      "Review 17: 만족합니다벌써개째구입인데역시나굳이네요\n",
      "Review 18: 굿입니다재질맘에듭니다쉐입이뿝니다아주맘에듭니다보통아이오자빡시네요\n",
      "Review 19: 사이즈도좋고핏도좋습니다\n",
      "Review 20: 네이비올리브오프화이트색상구매했습니다가성비정말좋은제품입니다여름에단품으로도입어도좋고촉감이좋아서이너로도좋아요포켓도밸런스좋게들어가서마음에들어요\n",
      "Review 1: 색감은딱회색이고핏은스탠다드한거같습니다흰검대신이너로매치하기좋아요\n",
      "Review 2: 예전버전보다더얇아지고사이즈는더커진듯느낌은조금달라졌는데짱짱하고좋습니다베리굿\n",
      "Review 3: 첫구매입니다빠르배송저렴하게구매하였습니다\n",
      "Review 4: 나쁘지않아요근데아주살짝비춰요좀더탄탄두꺼울줄알았는데그냥면티에여휘뚜루마뚜루에여\n",
      "Review 5: 택떼고처음입고나간날엘리베이터거울에서보니팔뒷부분에올이나가있었습니다그러나묻지도따지지도않고교환해주시는이스트로그에대감동했습니다옷은적당한두께에탄탄하고오트밀은컬러감이너무이쁩니다또구매하겠습니다충성\n",
      "Review 6: 기장감이조금길지만여름더운날씨에편하게입기좋습니다가슴부분에포켓이있어포인트도있고좋아요\n",
      "Review 7: 특별하게좋다고느끼긴어렵지만전체적으로깔끔한티라서좋아요잘입고있습니다\n",
      "Review 8: 아들적당히잘맞고맘에들어해요\n",
      "Review 9: 최근산반팔중에제일맘에들어요빼입하면기장이조금길긴한데제가딱맞게입는걸안좋아해서사이즈는적당한오버핏이에요\n",
      "Review 10: 리뷰에작년것보다넥라인이넓어져사별로다하는후기보고고민했는데저는이번시즌반팔이더편하네요잘입겠습니다\n",
      "Review 11: 톡톡한천으로데일리로입기좋은티셔츠입니다여름에는기본티많이입게되는데자주입고있어요\n",
      "Review 12: 년전좋은기억으로재구매했는데리뉴얼로인해넥라인이정말역대급으로별로네요원단도예전의느낌아님\n",
      "Review 13: 처음구매해보는브랜드입니다일단색깔이무난무난해서코디하기좋고요건조기에한번돌렸는데도변형이없었어요\n",
      "Review 14: 가격대비퀄리티가좋고색도과하지않아데일리로입기좋습니다선물했는데좋아하네요여름에딱\n",
      "Review 15: 년도이후너무만족해서재구매했는데퀄리티가너무달라졌음이전에는넥라인이잘잡아주고옷이빳빳해서레이어드아니더라도잘입었는데지금은그냥좀두꺼울뿐세장혼합으로파는레이어드전용이너수준의옷이되버림전혀빳빳하지않고신축성이좋아졌다해야하나암튼그래서세탁에신경을훨씬많이써야하고레이어드해서입어야만하는지경임\n",
      "Review 16: 범용성최고휘뚜루마뚜루탄탄재질굿\n",
      "Review 17: 사이즈스타일색감다좋습니다여름에단독으로입어도좋은데늦봄초가을아직더울때반팔이랑외투랑같이입는게찰떡이에요굿굿\n",
      "Review 18: 터치감이상당히부드럽고좋습니다\n",
      "Review 19: 재질도좋고목쫀쫀한게딱입니다한사이즈업추천드랴요\n",
      "Review 20: 생각한것보다는약간얇은느낌이고심플하지만포켓이있어서너무밋밋하지는않은옷이에요어디에든무난하게입을만은한거같아요\n"
     ]
    }
   ],
   "source": [
    "#한글만 추출\n",
    "hangul_pattern = re.compile('[가-힣]+')\n",
    "\n",
    "#데이터 담을 변수\n",
    "review_ = []\n",
    "\n",
    "# 한 상품당 필요한 리뷰 수는 100개. 한 페이지당 20개, 총 5페이지\n",
    "for page_number in range(1, 6):\n",
    "\n",
    "    req = driver.page_source\n",
    "    soup = BeautifulSoup(req,'html.parser')\n",
    "\n",
    "    for i in range(1,21):\n",
    "        selector = f'#__next > div.css-edibn.e1d4aooe2 > section.e6fth966.css-1w043rb.ex98du0 > div.css-0.e13i1jpn0 > ul > li:nth-child({i}) > div > div > div.css-16tn2ye.eji1c1x7 > div > p'\n",
    "        review_text = soup.select_one(selector).get_text()\n",
    "        hangul_text = ''.join(hangul_pattern.findall(review_text))\n",
    "        print(f'Review {i}: {hangul_text}')\n",
    "        review_.append({'text': hangul_text})\n",
    "  \n",
    "    try: #다음 페이지 이동\n",
    "        next_button =driver.find_element(By.CSS_SELECTOR, f'#__next > div.css-edibn.e1d4aooe2 > section.e6fth966.css-1w043rb.ex98du0 > div.css-0.e13i1jpn0 > div > ul > li:nth-child({page_number + 1}) > button')\n",
    "        #스크롤을 해야 버튼을 누를 수 있는 페이지구조다. 스크롤할 위치 선정\n",
    "        scroll = driver.find_element(By.CSS_SELECTOR, '#__next > div.css-edibn.e1d4aooe2 > section.e6fth966.css-1w043rb.ex98du0 > div.css-0.e13i1jpn0 > ul > li:nth-child(18) > div > div > div.css-69znzl.eji1c1x4 > span.css-1riowxi.eji1c1x6')\n",
    "        driver.execute_script(\"arguments[0].scrollIntoView();\", scroll)\n",
    "        next_button.click()\n",
    "        time.sleep(1)\n",
    "\n",
    "    except Exception as e:\n",
    "        print(f'Failed to click next button on page {page_number}: {e}')\n",
    "        break\n",
    "\n",
    "driver.quit()"
   ]
  },
  {
   "cell_type": "code",
   "execution_count": 36,
   "metadata": {},
   "outputs": [
    {
     "name": "stdout",
     "output_type": "stream",
     "text": [
      "                                                 text\n",
      "0       원단이부드러운편이에요몇번빨았는데목늘어남이있거나하지않고탄탄한편입니다레귤러핏정도됩니다\n",
      "1                예전에구매했을때보다뭔가소재가더좋아진듯해요기분탓인가좌우지간정말좋네요\n",
      "2                                  핏도좋고소재느낌도좋습니다정핏입니다\n",
      "3                                      정핏이고너무예쁜티셔츠임니다\n",
      "4                                  입은지꽤됐는데목늘어짐없이짱짱하네요\n",
      "..                                                ...\n",
      "95                                   범용성최고휘뚜루마뚜루탄탄재질굿\n",
      "96  사이즈스타일색감다좋습니다여름에단독으로입어도좋은데늦봄초가을아직더울때반팔이랑외투랑같이입...\n",
      "97                                    터치감이상당히부드럽고좋습니다\n",
      "98                           재질도좋고목쫀쫀한게딱입니다한사이즈업추천드랴요\n",
      "99  생각한것보다는약간얇은느낌이고심플하지만포켓이있어서너무밋밋하지는않은옷이에요어디에든무난하...\n",
      "\n",
      "[100 rows x 1 columns]\n"
     ]
    }
   ],
   "source": [
    "# 데이터프레임으로 변환\n",
    "df = pd.DataFrame(review_)\n",
    "print(df)\n",
    "\n",
    "# 데이터프레임을 CSV 파일로 저장\n",
    "df.to_csv('10.ONE POCKET.csv', index=False)"
   ]
  },
  {
   "cell_type": "markdown",
   "metadata": {},
   "source": [
    "# 데이터프레임으로 불러오기"
   ]
  },
  {
   "cell_type": "code",
   "execution_count": 1,
   "metadata": {},
   "outputs": [],
   "source": [
    "import pandas as pd\n",
    "from glob import glob"
   ]
  },
  {
   "cell_type": "code",
   "execution_count": 6,
   "metadata": {},
   "outputs": [
    {
     "data": {
      "text/plain": [
       "['C:/Users/PC/Desktop/머신러닝프로젝트/제목통일\\\\리뷰_1.csv',\n",
       " 'C:/Users/PC/Desktop/머신러닝프로젝트/제목통일\\\\리뷰_10.csv',\n",
       " 'C:/Users/PC/Desktop/머신러닝프로젝트/제목통일\\\\리뷰_2.csv',\n",
       " 'C:/Users/PC/Desktop/머신러닝프로젝트/제목통일\\\\리뷰_3.csv',\n",
       " 'C:/Users/PC/Desktop/머신러닝프로젝트/제목통일\\\\리뷰_4.csv',\n",
       " 'C:/Users/PC/Desktop/머신러닝프로젝트/제목통일\\\\리뷰_5.csv',\n",
       " 'C:/Users/PC/Desktop/머신러닝프로젝트/제목통일\\\\리뷰_6.csv',\n",
       " 'C:/Users/PC/Desktop/머신러닝프로젝트/제목통일\\\\리뷰_7.csv',\n",
       " 'C:/Users/PC/Desktop/머신러닝프로젝트/제목통일\\\\리뷰_8.csv',\n",
       " 'C:/Users/PC/Desktop/머신러닝프로젝트/제목통일\\\\리뷰_9.csv']"
      ]
     },
     "execution_count": 6,
     "metadata": {},
     "output_type": "execute_result"
    }
   ],
   "source": [
    "glob('C:/Users/PC/Desktop/머신러닝프로젝트/제목통일/리뷰_*.csv')"
   ]
  },
  {
   "cell_type": "code",
   "execution_count": 7,
   "metadata": {},
   "outputs": [
    {
     "data": {
      "text/plain": [
       "['C:/Users/PC/Desktop/머신러닝프로젝트/제목통일\\\\리뷰_1.csv',\n",
       " 'C:/Users/PC/Desktop/머신러닝프로젝트/제목통일\\\\리뷰_10.csv',\n",
       " 'C:/Users/PC/Desktop/머신러닝프로젝트/제목통일\\\\리뷰_2.csv',\n",
       " 'C:/Users/PC/Desktop/머신러닝프로젝트/제목통일\\\\리뷰_3.csv',\n",
       " 'C:/Users/PC/Desktop/머신러닝프로젝트/제목통일\\\\리뷰_4.csv',\n",
       " 'C:/Users/PC/Desktop/머신러닝프로젝트/제목통일\\\\리뷰_5.csv',\n",
       " 'C:/Users/PC/Desktop/머신러닝프로젝트/제목통일\\\\리뷰_6.csv',\n",
       " 'C:/Users/PC/Desktop/머신러닝프로젝트/제목통일\\\\리뷰_7.csv',\n",
       " 'C:/Users/PC/Desktop/머신러닝프로젝트/제목통일\\\\리뷰_8.csv',\n",
       " 'C:/Users/PC/Desktop/머신러닝프로젝트/제목통일\\\\리뷰_9.csv']"
      ]
     },
     "execution_count": 7,
     "metadata": {},
     "output_type": "execute_result"
    }
   ],
   "source": [
    "review_files = glob('C:/Users/PC/Desktop/머신러닝프로젝트/제목통일/리뷰_*.csv')\n",
    "review_files"
   ]
  },
  {
   "cell_type": "code",
   "execution_count": 12,
   "metadata": {},
   "outputs": [
    {
     "data": {
      "text/html": [
       "<div>\n",
       "<style scoped>\n",
       "    .dataframe tbody tr th:only-of-type {\n",
       "        vertical-align: middle;\n",
       "    }\n",
       "\n",
       "    .dataframe tbody tr th {\n",
       "        vertical-align: top;\n",
       "    }\n",
       "\n",
       "    .dataframe thead th {\n",
       "        text-align: right;\n",
       "    }\n",
       "</style>\n",
       "<table border=\"1\" class=\"dataframe\">\n",
       "  <thead>\n",
       "    <tr style=\"text-align: right;\">\n",
       "      <th></th>\n",
       "      <th>text</th>\n",
       "    </tr>\n",
       "  </thead>\n",
       "  <tbody>\n",
       "    <tr>\n",
       "      <th>0</th>\n",
       "      <td>재질이좋고스타일링하기에도좋아요여름에입기딱입니다색감은연한하늘매장에서직접컬러감보고어울리...</td>\n",
       "    </tr>\n",
       "    <tr>\n",
       "      <th>1</th>\n",
       "      <td>색은은하게좋고주름이잘지긴하는데바스락거리는재질이라자연스럽게어우러져요무난한비즈니스캐주얼...</td>\n",
       "    </tr>\n",
       "    <tr>\n",
       "      <th>2</th>\n",
       "      <td>핏이진짜이쁘네요인데요사이즈입는데시키니까오버핏으로이쁘게잘잡히네요다음에는로도해보려고요</td>\n",
       "    </tr>\n",
       "    <tr>\n",
       "      <th>3</th>\n",
       "      <td>평소에입는데이건고른사이즈가딱입니다색감도무난해서좋습니다얇아서여름에입기무난</td>\n",
       "    </tr>\n",
       "    <tr>\n",
       "      <th>4</th>\n",
       "      <td>말하면입아프죠진짜가볍고좋급니다고급캐쥬얼느낌으로입으면딱이에요대까지괜탆은것깉아요</td>\n",
       "    </tr>\n",
       "    <tr>\n",
       "      <th>...</th>\n",
       "      <td>...</td>\n",
       "    </tr>\n",
       "    <tr>\n",
       "      <th>95</th>\n",
       "      <td>포터리는역시다르네요베이직한제품이지만원단도핏도다른저렴한제품들과는달라요추천</td>\n",
       "    </tr>\n",
       "    <tr>\n",
       "      <th>96</th>\n",
       "      <td>색상이맘에드네요시원하게입을것같아요바스락거리는게맘에들어요한사이즈크게샀으면오버픽느낌이였...</td>\n",
       "    </tr>\n",
       "    <tr>\n",
       "      <th>97</th>\n",
       "      <td>정말포터리는가격값을하는거같아요좋아요퀄도좋아요</td>\n",
       "    </tr>\n",
       "    <tr>\n",
       "      <th>98</th>\n",
       "      <td>핑크색처럼보이기도하고회색처럼보이기도해서옷두벌산느낌이에요</td>\n",
       "    </tr>\n",
       "    <tr>\n",
       "      <th>99</th>\n",
       "      <td>고급감컬러소재다최고굿</td>\n",
       "    </tr>\n",
       "  </tbody>\n",
       "</table>\n",
       "<p>100 rows × 1 columns</p>\n",
       "</div>"
      ],
      "text/plain": [
       "                                                 text\n",
       "0   재질이좋고스타일링하기에도좋아요여름에입기딱입니다색감은연한하늘매장에서직접컬러감보고어울리...\n",
       "1   색은은하게좋고주름이잘지긴하는데바스락거리는재질이라자연스럽게어우러져요무난한비즈니스캐주얼...\n",
       "2       핏이진짜이쁘네요인데요사이즈입는데시키니까오버핏으로이쁘게잘잡히네요다음에는로도해보려고요\n",
       "3             평소에입는데이건고른사이즈가딱입니다색감도무난해서좋습니다얇아서여름에입기무난\n",
       "4          말하면입아프죠진짜가볍고좋급니다고급캐쥬얼느낌으로입으면딱이에요대까지괜탆은것깉아요\n",
       "..                                                ...\n",
       "95            포터리는역시다르네요베이직한제품이지만원단도핏도다른저렴한제품들과는달라요추천\n",
       "96  색상이맘에드네요시원하게입을것같아요바스락거리는게맘에들어요한사이즈크게샀으면오버픽느낌이였...\n",
       "97                           정말포터리는가격값을하는거같아요좋아요퀄도좋아요\n",
       "98                     핑크색처럼보이기도하고회색처럼보이기도해서옷두벌산느낌이에요\n",
       "99                                        고급감컬러소재다최고굿\n",
       "\n",
       "[100 rows x 1 columns]"
      ]
     },
     "execution_count": 12,
     "metadata": {},
     "output_type": "execute_result"
    }
   ],
   "source": [
    "tmp = pd.read_csv(review_files[1])\n",
    "tmp"
   ]
  },
  {
   "cell_type": "code",
   "execution_count": 13,
   "metadata": {},
   "outputs": [],
   "source": [
    "tmp_raw = []\n",
    "\n",
    "for i in review_files:\n",
    "    tmp = pd.read_csv(i)\n",
    "    tmp_raw.append(tmp)"
   ]
  },
  {
   "cell_type": "code",
   "execution_count": 14,
   "metadata": {},
   "outputs": [
    {
     "data": {
      "text/html": [
       "<div>\n",
       "<style scoped>\n",
       "    .dataframe tbody tr th:only-of-type {\n",
       "        vertical-align: middle;\n",
       "    }\n",
       "\n",
       "    .dataframe tbody tr th {\n",
       "        vertical-align: top;\n",
       "    }\n",
       "\n",
       "    .dataframe thead th {\n",
       "        text-align: right;\n",
       "    }\n",
       "</style>\n",
       "<table border=\"1\" class=\"dataframe\">\n",
       "  <thead>\n",
       "    <tr style=\"text-align: right;\">\n",
       "      <th></th>\n",
       "      <th>text</th>\n",
       "    </tr>\n",
       "  </thead>\n",
       "  <tbody>\n",
       "    <tr>\n",
       "      <th>0</th>\n",
       "      <td>편하게걸치기좋은소재입니다재구매했습니다추천합니다다른색도구매하고싶네요</td>\n",
       "    </tr>\n",
       "    <tr>\n",
       "      <th>1</th>\n",
       "      <td>여름에시원하게입을수있는바스락질감의셔츠입니다에어컨밑에서걸치기좋습니다</td>\n",
       "    </tr>\n",
       "    <tr>\n",
       "      <th>2</th>\n",
       "      <td>이뻐서추가로다른컬러도구입헸네요</td>\n",
       "    </tr>\n",
       "    <tr>\n",
       "      <th>3</th>\n",
       "      <td>사이즈가너무크지도핏하지도않게딱여유있는핏이라가볍게여기저기막걸쳐입기좋아요여름에입기에도덥...</td>\n",
       "    </tr>\n",
       "    <tr>\n",
       "      <th>4</th>\n",
       "      <td>일할때야외에서일을많이하는데블랙컬러라땀이나도티도안나고소재가여름에입기너무좋네요</td>\n",
       "    </tr>\n",
       "    <tr>\n",
       "      <th>...</th>\n",
       "      <td>...</td>\n",
       "    </tr>\n",
       "    <tr>\n",
       "      <th>95</th>\n",
       "      <td>수아레마감진짜지하상가에서산것같은마감입니다원했던재질도아니라조금실망스러워요</td>\n",
       "    </tr>\n",
       "    <tr>\n",
       "      <th>96</th>\n",
       "      <td>재질도린넨이라얇고시원하고핏도적당히오버핏이라이뻐요이너입고입어도이쁘고단독으로입어도이쁠듯</td>\n",
       "    </tr>\n",
       "    <tr>\n",
       "      <th>97</th>\n",
       "      <td>핏도괜찮고색깔도맘에드네요</td>\n",
       "    </tr>\n",
       "    <tr>\n",
       "      <th>98</th>\n",
       "      <td>제가생각했던대로딱알맞은색적당한오버핏이에요여름에사무실이나실내에서추울때입기좋아요</td>\n",
       "    </tr>\n",
       "    <tr>\n",
       "      <th>99</th>\n",
       "      <td>최고그냥제거딱찾던셔츠입니다얇고가볍운와이셔츠는디자인을잘못하면흐물흐물꼴보기싫은데디자인을...</td>\n",
       "    </tr>\n",
       "  </tbody>\n",
       "</table>\n",
       "<p>1000 rows × 1 columns</p>\n",
       "</div>"
      ],
      "text/plain": [
       "                                                 text\n",
       "0                편하게걸치기좋은소재입니다재구매했습니다추천합니다다른색도구매하고싶네요\n",
       "1                여름에시원하게입을수있는바스락질감의셔츠입니다에어컨밑에서걸치기좋습니다\n",
       "2                                    이뻐서추가로다른컬러도구입헸네요\n",
       "3   사이즈가너무크지도핏하지도않게딱여유있는핏이라가볍게여기저기막걸쳐입기좋아요여름에입기에도덥...\n",
       "4           일할때야외에서일을많이하는데블랙컬러라땀이나도티도안나고소재가여름에입기너무좋네요\n",
       "..                                                ...\n",
       "95            수아레마감진짜지하상가에서산것같은마감입니다원했던재질도아니라조금실망스러워요\n",
       "96     재질도린넨이라얇고시원하고핏도적당히오버핏이라이뻐요이너입고입어도이쁘고단독으로입어도이쁠듯\n",
       "97                                      핏도괜찮고색깔도맘에드네요\n",
       "98         제가생각했던대로딱알맞은색적당한오버핏이에요여름에사무실이나실내에서추울때입기좋아요\n",
       "99  최고그냥제거딱찾던셔츠입니다얇고가볍운와이셔츠는디자인을잘못하면흐물흐물꼴보기싫은데디자인을...\n",
       "\n",
       "[1000 rows x 1 columns]"
      ]
     },
     "execution_count": 14,
     "metadata": {},
     "output_type": "execute_result"
    }
   ],
   "source": [
    "reviews = pd.concat(tmp_raw)\n",
    "reviews"
   ]
  },
  {
   "cell_type": "code",
   "execution_count": null,
   "metadata": {},
   "outputs": [],
   "source": []
  },
  {
   "cell_type": "code",
   "execution_count": null,
   "metadata": {},
   "outputs": [],
   "source": []
  },
  {
   "cell_type": "code",
   "execution_count": null,
   "metadata": {},
   "outputs": [],
   "source": []
  },
  {
   "cell_type": "code",
   "execution_count": null,
   "metadata": {},
   "outputs": [],
   "source": []
  },
  {
   "cell_type": "code",
   "execution_count": null,
   "metadata": {},
   "outputs": [],
   "source": []
  },
  {
   "cell_type": "code",
   "execution_count": null,
   "metadata": {},
   "outputs": [],
   "source": []
  }
 ],
 "metadata": {
  "kernelspec": {
   "display_name": "ds_study",
   "language": "python",
   "name": "python3"
  },
  "language_info": {
   "codemirror_mode": {
    "name": "ipython",
    "version": 3
   },
   "file_extension": ".py",
   "mimetype": "text/x-python",
   "name": "python",
   "nbconvert_exporter": "python",
   "pygments_lexer": "ipython3",
   "version": "3.12.4"
  }
 },
 "nbformat": 4,
 "nbformat_minor": 2
}
